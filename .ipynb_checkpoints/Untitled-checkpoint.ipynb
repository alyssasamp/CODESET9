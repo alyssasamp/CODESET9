{
 "cells": [
  {
   "cell_type": "markdown",
   "id": "3d9f91a1",
   "metadata": {},
   "source": [
    "## CODE SET 9"
   ]
  },
  {
   "cell_type": "markdown",
   "id": "5f483586",
   "metadata": {},
   "source": [
    "# Programming problem 1- Course information\n",
    "#Write a program that creates a dictionary containing course numbers and the room numbers of the rooms where the courses meet. The dictionary should have the following keyvalue pairs:\n",
    "The program should also create a dictionary containing course numbers and the names of the instructors that teach each course. The dictionary should have the following key-value pairs:"
   ]
  },
  {
   "cell_type": "code",
   "execution_count": 1,
   "id": "78c7d595",
   "metadata": {},
   "outputs": [],
   "source": [
    "import courseinfo                              #Importing the module with room numbers into this code \n",
    "\n",
    "def main():                                    #Starting out with the main function\n",
    "    course = input(\"Enter a course number: \")\n",
    "    \n",
    "    print(courseinfo.room[course])\n",
    "    print(courseinfo.instructor[course])\n",
    "    print(courseinfo.meeting_time[course])\n",
    "    \n",
    "\n",
    "\n",
    "\n"
   ]
  }
 ],
 "metadata": {
  "kernelspec": {
   "display_name": "Python 3 (ipykernel)",
   "language": "python",
   "name": "python3"
  },
  "language_info": {
   "codemirror_mode": {
    "name": "ipython",
    "version": 3
   },
   "file_extension": ".py",
   "mimetype": "text/x-python",
   "name": "python",
   "nbconvert_exporter": "python",
   "pygments_lexer": "ipython3",
   "version": "3.10.9"
  }
 },
 "nbformat": 4,
 "nbformat_minor": 5
}
